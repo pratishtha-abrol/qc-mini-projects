{
 "cells": [
  {
   "cell_type": "code",
   "execution_count": 4,
   "id": "07875260",
   "metadata": {},
   "outputs": [],
   "source": [
    "import qiskit \n",
    "from qiskit import QuantumRegister, ClassicalRegister, QuantumCircuit, IBMQ\n",
    "import math"
   ]
  },
  {
   "cell_type": "code",
   "execution_count": 6,
   "id": "8a67513d",
   "metadata": {},
   "outputs": [],
   "source": [
    "q=QuantumRegister(1)\n",
    "c=ClassicalRegister(1)\n",
    "circuit = QuantumCircuit(q, c)"
   ]
  },
  {
   "cell_type": "code",
   "execution_count": 7,
   "id": "19d59065",
   "metadata": {},
   "outputs": [
    {
     "data": {
      "text/plain": [
       "<qiskit.circuit.instructionset.InstructionSet at 0x7f341679caf0>"
      ]
     },
     "execution_count": 7,
     "metadata": {},
     "output_type": "execute_result"
    }
   ],
   "source": [
    "circuit.h(q)"
   ]
  },
  {
   "cell_type": "code",
   "execution_count": 8,
   "id": "cc60517f",
   "metadata": {},
   "outputs": [
    {
     "data": {
      "text/plain": [
       "<qiskit.circuit.instructionset.InstructionSet at 0x7f3465b67250>"
      ]
     },
     "execution_count": 8,
     "metadata": {},
     "output_type": "execute_result"
    }
   ],
   "source": [
    "circuit.measure(q,c)"
   ]
  },
  {
   "cell_type": "code",
   "execution_count": 9,
   "id": "c50d4366",
   "metadata": {},
   "outputs": [],
   "source": [
    "from qiskit import BasicAer, execute"
   ]
  },
  {
   "cell_type": "code",
   "execution_count": 10,
   "id": "f916e9aa",
   "metadata": {},
   "outputs": [],
   "source": [
    "backend = BasicAer.get_backend('qasm_simulator')\n",
    "job=execute(circuit, backend, shots=10, memory=True)"
   ]
  },
  {
   "cell_type": "code",
   "execution_count": 11,
   "id": "3ce42abf",
   "metadata": {},
   "outputs": [
    {
     "name": "stdout",
     "output_type": "stream",
     "text": [
      "['1', '1', '1', '1', '1', '0', '0', '0', '1', '1']\n"
     ]
    }
   ],
   "source": [
    "result = job.result().get_memory()\n",
    "print(result)"
   ]
  },
  {
   "cell_type": "code",
   "execution_count": 12,
   "id": "097cb070",
   "metadata": {},
   "outputs": [
    {
     "name": "stdout",
     "output_type": "stream",
     "text": [
      "TAILS\n",
      "TAILS\n",
      "TAILS\n",
      "TAILS\n",
      "TAILS\n",
      "HEADS\n",
      "HEADS\n",
      "HEADS\n",
      "TAILS\n",
      "TAILS\n"
     ]
    }
   ],
   "source": [
    "for op in result:\n",
    "    if op=='0': print(\"HEADS\")\n",
    "    else : print(\"TAILS\")"
   ]
  },
  {
   "cell_type": "code",
   "execution_count": 15,
   "id": "75fc7dba",
   "metadata": {},
   "outputs": [
    {
     "name": "stdout",
     "output_type": "stream",
     "text": [
      "Requirement already satisfied: qiskit-ibmq-provider in /home/pratzz/anaconda3/envs/q/lib/python3.10/site-packages (0.19.2)\n",
      "Requirement already satisfied: qiskit-terra>=0.18.0 in /home/pratzz/anaconda3/envs/q/lib/python3.10/site-packages (from qiskit-ibmq-provider) (0.21.2)\n",
      "Requirement already satisfied: python-dateutil>=2.8.0 in /home/pratzz/anaconda3/envs/q/lib/python3.10/site-packages (from qiskit-ibmq-provider) (2.8.2)\n",
      "Requirement already satisfied: websocket-client>=1.0.1 in /home/pratzz/anaconda3/envs/q/lib/python3.10/site-packages (from qiskit-ibmq-provider) (1.4.1)\n",
      "Requirement already satisfied: numpy>=1.13 in /home/pratzz/anaconda3/envs/q/lib/python3.10/site-packages (from qiskit-ibmq-provider) (1.23.3)\n",
      "Requirement already satisfied: websockets>=10.0 in /home/pratzz/anaconda3/envs/q/lib/python3.10/site-packages (from qiskit-ibmq-provider) (10.3)\n",
      "Requirement already satisfied: requests>=2.19 in /home/pratzz/anaconda3/envs/q/lib/python3.10/site-packages (from qiskit-ibmq-provider) (2.28.1)\n",
      "Requirement already satisfied: requests-ntlm>=1.1.0 in /home/pratzz/anaconda3/envs/q/lib/python3.10/site-packages (from qiskit-ibmq-provider) (1.1.0)\n",
      "Requirement already satisfied: urllib3>=1.21.1 in /home/pratzz/anaconda3/envs/q/lib/python3.10/site-packages (from qiskit-ibmq-provider) (1.26.12)\n",
      "Requirement already satisfied: six>=1.5 in /home/pratzz/anaconda3/envs/q/lib/python3.10/site-packages (from python-dateutil>=2.8.0->qiskit-ibmq-provider) (1.16.0)\n",
      "Requirement already satisfied: dill>=0.3 in /home/pratzz/anaconda3/envs/q/lib/python3.10/site-packages (from qiskit-terra>=0.18.0->qiskit-ibmq-provider) (0.3.5.1)\n",
      "Requirement already satisfied: symengine>=0.9 in /home/pratzz/anaconda3/envs/q/lib/python3.10/site-packages (from qiskit-terra>=0.18.0->qiskit-ibmq-provider) (0.9.2)\n",
      "Requirement already satisfied: retworkx>=0.11.0 in /home/pratzz/anaconda3/envs/q/lib/python3.10/site-packages (from qiskit-terra>=0.18.0->qiskit-ibmq-provider) (0.11.0)\n",
      "Requirement already satisfied: tweedledum<2.0,>=1.1 in /home/pratzz/anaconda3/envs/q/lib/python3.10/site-packages (from qiskit-terra>=0.18.0->qiskit-ibmq-provider) (1.1.1)\n",
      "Requirement already satisfied: stevedore>=3.0.0 in /home/pratzz/anaconda3/envs/q/lib/python3.10/site-packages (from qiskit-terra>=0.18.0->qiskit-ibmq-provider) (4.0.0)\n",
      "Requirement already satisfied: ply>=3.10 in /home/pratzz/anaconda3/envs/q/lib/python3.10/site-packages (from qiskit-terra>=0.18.0->qiskit-ibmq-provider) (3.11)\n",
      "Requirement already satisfied: scipy>=1.5 in /home/pratzz/anaconda3/envs/q/lib/python3.10/site-packages (from qiskit-terra>=0.18.0->qiskit-ibmq-provider) (1.9.1)\n",
      "Requirement already satisfied: sympy>=1.3 in /home/pratzz/anaconda3/envs/q/lib/python3.10/site-packages (from qiskit-terra>=0.18.0->qiskit-ibmq-provider) (1.11.1)\n",
      "Requirement already satisfied: psutil>=5 in /home/pratzz/anaconda3/envs/q/lib/python3.10/site-packages (from qiskit-terra>=0.18.0->qiskit-ibmq-provider) (5.9.2)\n",
      "Requirement already satisfied: idna<4,>=2.5 in /home/pratzz/anaconda3/envs/q/lib/python3.10/site-packages (from requests>=2.19->qiskit-ibmq-provider) (3.4)\n",
      "Requirement already satisfied: charset-normalizer<3,>=2 in /home/pratzz/anaconda3/envs/q/lib/python3.10/site-packages (from requests>=2.19->qiskit-ibmq-provider) (2.1.1)\n",
      "Requirement already satisfied: certifi>=2017.4.17 in /home/pratzz/anaconda3/envs/q/lib/python3.10/site-packages (from requests>=2.19->qiskit-ibmq-provider) (2022.9.14)\n",
      "Requirement already satisfied: ntlm-auth>=1.0.2 in /home/pratzz/anaconda3/envs/q/lib/python3.10/site-packages (from requests-ntlm>=1.1.0->qiskit-ibmq-provider) (1.5.0)\n",
      "Requirement already satisfied: cryptography>=1.3 in /home/pratzz/anaconda3/envs/q/lib/python3.10/site-packages (from requests-ntlm>=1.1.0->qiskit-ibmq-provider) (38.0.1)\n",
      "Requirement already satisfied: cffi>=1.12 in /home/pratzz/anaconda3/envs/q/lib/python3.10/site-packages (from cryptography>=1.3->requests-ntlm>=1.1.0->qiskit-ibmq-provider) (1.15.1)\n",
      "Requirement already satisfied: pbr!=2.1.0,>=2.0.0 in /home/pratzz/anaconda3/envs/q/lib/python3.10/site-packages (from stevedore>=3.0.0->qiskit-terra>=0.18.0->qiskit-ibmq-provider) (5.10.0)\n",
      "Requirement already satisfied: mpmath>=0.19 in /home/pratzz/anaconda3/envs/q/lib/python3.10/site-packages (from sympy>=1.3->qiskit-terra>=0.18.0->qiskit-ibmq-provider) (1.2.1)\n",
      "Requirement already satisfied: pycparser in /home/pratzz/anaconda3/envs/q/lib/python3.10/site-packages (from cffi>=1.12->cryptography>=1.3->requests-ntlm>=1.1.0->qiskit-ibmq-provider) (2.21)\n"
     ]
    }
   ],
   "source": [
    "!pip install qiskit-ibmq-provider"
   ]
  },
  {
   "cell_type": "code",
   "execution_count": 19,
   "id": "a27927c6",
   "metadata": {},
   "outputs": [
    {
     "ename": "IBMQProviderError",
     "evalue": "'No provider matches the specified criteria: hub = None, group = None, project = None'",
     "output_type": "error",
     "traceback": [
      "\u001b[0;31m---------------------------------------------------------------------------\u001b[0m",
      "\u001b[0;31mIBMQProviderError\u001b[0m                         Traceback (most recent call last)",
      "Input \u001b[0;32mIn [19]\u001b[0m, in \u001b[0;36m<cell line: 1>\u001b[0;34m()\u001b[0m\n\u001b[0;32m----> 1\u001b[0m provider \u001b[38;5;241m=\u001b[39m \u001b[43mIBMQ\u001b[49m\u001b[38;5;241;43m.\u001b[39;49m\u001b[43mget_provider\u001b[49m\u001b[43m(\u001b[49m\u001b[43m)\u001b[49m\n\u001b[1;32m      2\u001b[0m backend \u001b[38;5;241m=\u001b[39m provider\u001b[38;5;241m.\u001b[39mget_backend(\u001b[38;5;124m'\u001b[39m\u001b[38;5;124mibmq_qasm_simulator\u001b[39m\u001b[38;5;124m'\u001b[39m)\n\u001b[1;32m      3\u001b[0m job \u001b[38;5;241m=\u001b[39m execute(circuit, backend, shots\u001b[38;5;241m=\u001b[39m\u001b[38;5;241m10\u001b[39m, memory\u001b[38;5;241m=\u001b[39m\u001b[38;5;28;01mTrue\u001b[39;00m)\n",
      "File \u001b[0;32m~/anaconda3/envs/q/lib/python3.10/site-packages/qiskit/providers/ibmq/ibmqfactory.py:423\u001b[0m, in \u001b[0;36mIBMQFactory.get_provider\u001b[0;34m(self, hub, group, project)\u001b[0m\n\u001b[1;32m    420\u001b[0m providers \u001b[38;5;241m=\u001b[39m \u001b[38;5;28mself\u001b[39m\u001b[38;5;241m.\u001b[39mproviders(hub, group, project)\n\u001b[1;32m    422\u001b[0m \u001b[38;5;28;01mif\u001b[39;00m \u001b[38;5;129;01mnot\u001b[39;00m providers:\n\u001b[0;32m--> 423\u001b[0m     \u001b[38;5;28;01mraise\u001b[39;00m IBMQProviderError(\u001b[38;5;124m'\u001b[39m\u001b[38;5;124mNo provider matches the specified criteria: \u001b[39m\u001b[38;5;124m'\u001b[39m\n\u001b[1;32m    424\u001b[0m                             \u001b[38;5;124m'\u001b[39m\u001b[38;5;124mhub = \u001b[39m\u001b[38;5;132;01m{}\u001b[39;00m\u001b[38;5;124m, group = \u001b[39m\u001b[38;5;132;01m{}\u001b[39;00m\u001b[38;5;124m, project = \u001b[39m\u001b[38;5;132;01m{}\u001b[39;00m\u001b[38;5;124m'\u001b[39m\n\u001b[1;32m    425\u001b[0m                             \u001b[38;5;241m.\u001b[39mformat(hub, group, project))\n\u001b[1;32m    426\u001b[0m \u001b[38;5;28;01mif\u001b[39;00m \u001b[38;5;28mlen\u001b[39m(providers) \u001b[38;5;241m>\u001b[39m \u001b[38;5;241m1\u001b[39m:\n\u001b[1;32m    427\u001b[0m     \u001b[38;5;28;01mraise\u001b[39;00m IBMQProviderError(\u001b[38;5;124m'\u001b[39m\u001b[38;5;124mMore than one provider matches the specified criteria.\u001b[39m\u001b[38;5;124m'\u001b[39m\n\u001b[1;32m    428\u001b[0m                             \u001b[38;5;124m'\u001b[39m\u001b[38;5;124mhub = \u001b[39m\u001b[38;5;132;01m{}\u001b[39;00m\u001b[38;5;124m, group = \u001b[39m\u001b[38;5;132;01m{}\u001b[39;00m\u001b[38;5;124m, project = \u001b[39m\u001b[38;5;132;01m{}\u001b[39;00m\u001b[38;5;124m'\u001b[39m\n\u001b[1;32m    429\u001b[0m                             \u001b[38;5;241m.\u001b[39mformat(hub, group, project))\n",
      "\u001b[0;31mIBMQProviderError\u001b[0m: 'No provider matches the specified criteria: hub = None, group = None, project = None'"
     ]
    }
   ],
   "source": [
    "provider = IBMQ.get_provider()\n",
    "backend = provider.get_backend('ibmq_qasm_simulator')\n",
    "job = execute(circuit, backend, shots=10, memory=True)\n",
    "for output in job.result().get_memory():\n",
    "    if output=='0':\n",
    "        print('HEADS\\n')\n",
    "    else:\n",
    "        print('TAILS\\n')"
   ]
  },
  {
   "cell_type": "code",
   "execution_count": null,
   "id": "558ae951",
   "metadata": {},
   "outputs": [],
   "source": []
  }
 ],
 "metadata": {
  "kernelspec": {
   "display_name": "Python 3 (ipykernel)",
   "language": "python",
   "name": "python3"
  },
  "language_info": {
   "codemirror_mode": {
    "name": "ipython",
    "version": 3
   },
   "file_extension": ".py",
   "mimetype": "text/x-python",
   "name": "python",
   "nbconvert_exporter": "python",
   "pygments_lexer": "ipython3",
   "version": "3.10.4"
  }
 },
 "nbformat": 4,
 "nbformat_minor": 5
}
